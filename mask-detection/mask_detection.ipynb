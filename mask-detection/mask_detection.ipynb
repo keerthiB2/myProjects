{
 "cells": [
  {
   "cell_type": "code",
   "execution_count": 1,
   "metadata": {},
   "outputs": [
    {
     "name": "stdout",
     "output_type": "stream",
     "text": [
      "{'without_mask': 0, 'with_mask': 1}\n",
      "['without_mask', 'with_mask']\n",
      "[0, 1]\n"
     ]
    }
   ],
   "source": [
    "import cv2,os\n",
    "data_path=r'C:\\Users\\keert\\dataset'\n",
    "categories=os.listdir(data_path)\n",
    "labels=[i for i in range(len(categories))]\n",
    "label_dict=dict(zip(categories,labels))\n",
    "print(label_dict)\n",
    "print(categories)\n",
    "print(labels)"
   ]
  },
  {
   "cell_type": "code",
   "execution_count": 2,
   "metadata": {},
   "outputs": [],
   "source": [
    "img_size=100\n",
    "data=[]\n",
    "target=[]\n",
    "\n",
    "for category in categories:\n",
    "    folder_path=os.path.join(data_path,category)\n",
    "    img_names=os.listdir(folder_path)\n",
    "    for img_name in img_names:\n",
    "        img_path=os.path.join(folder_path,img_name)\n",
    "        img=cv2.imread(img_path)\n",
    "        try:\n",
    "            gray=cv2.cvtColor(img,cv2.COLOR_BGR2GRAY)\n",
    "            resized=cv2.resize(gray,(100,100))\n",
    "            data.append(resized)\n",
    "            target.append(label_dict[category])\n",
    "            #print(label_dict[category])\n",
    "        except Exception as e:\n",
    "            print('Exception:',e)"
   ]
  },
  {
   "cell_type": "code",
   "execution_count": 3,
   "metadata": {},
   "outputs": [
    {
     "name": "stderr",
     "output_type": "stream",
     "text": [
      "Using TensorFlow backend.\n"
     ]
    }
   ],
   "source": [
    "import numpy as np\n",
    "data=np.array(data)/255.0\n",
    "#print(data)\n",
    "data=np.reshape(data,(data.shape[0],img_size,img_size,1))\n",
    "target=np.array(target)\n",
    "\n",
    "from keras.utils import np_utils\n",
    "new_target=np_utils.to_categorical(target)"
   ]
  },
  {
   "cell_type": "code",
   "execution_count": 4,
   "metadata": {},
   "outputs": [],
   "source": [
    "np.save('data',data)\n",
    "np.save('target',new_target)"
   ]
  },
  {
   "cell_type": "code",
   "execution_count": 5,
   "metadata": {},
   "outputs": [],
   "source": [
    "import numpy as np\n",
    "data=np.load('data.npy')\n",
    "target=np.load('target.npy')"
   ]
  },
  {
   "cell_type": "code",
   "execution_count": 6,
   "metadata": {},
   "outputs": [],
   "source": [
    "from keras.models import Sequential\n",
    "from keras.layers import Dense,Activation,Flatten,Dropout\n",
    "from keras.layers import Conv2D,MaxPooling2D\n",
    "from keras.callbacks import ModelCheckpoint\n",
    "\n",
    "model=Sequential()\n",
    "model.add(Conv2D(200,(3,3),input_shape=data.shape[1:]))\n",
    "model.add(Activation('relu'))\n",
    "model.add(MaxPooling2D(pool_size=(2,2)))\n",
    "\n",
    "model.add(Conv2D(100,(3,3)))\n",
    "model.add(Activation('relu'))\n",
    "model.add(MaxPooling2D(pool_size=(2,2)))\n",
    "model.add(Flatten())\n",
    "model.add(Dropout(0.5))\n",
    "model.add(Dense(50,activation='relu'))\n",
    "model.add(Dense(2,activation='softmax'))\n",
    "model.compile(loss='categorical_crossentropy',optimizer='adam',metrics=['accuracy'])"
   ]
  },
  {
   "cell_type": "code",
   "execution_count": 7,
   "metadata": {},
   "outputs": [],
   "source": [
    "from sklearn.model_selection import train_test_split\n",
    "\n",
    "train_data,test_data,train_target,test_target=train_test_split(data,target,test_size=0.1)"
   ]
  },
  {
   "cell_type": "code",
   "execution_count": 8,
   "metadata": {},
   "outputs": [
    {
     "name": "stdout",
     "output_type": "stream",
     "text": [
      "Train on 2759 samples, validate on 690 samples\n",
      "Epoch 1/20\n",
      "2759/2759 [==============================] - 211s 77ms/step - loss: 0.6186 - accuracy: 0.6607 - val_loss: 0.5372 - val_accuracy: 0.7232\n",
      "Epoch 2/20\n",
      "2759/2759 [==============================] - 186s 67ms/step - loss: 0.4858 - accuracy: 0.7648 - val_loss: 0.6643 - val_accuracy: 0.6391\n",
      "Epoch 3/20\n",
      "2759/2759 [==============================] - 196s 71ms/step - loss: 0.4204 - accuracy: 0.8046 - val_loss: 0.3575 - val_accuracy: 0.8391\n",
      "Epoch 4/20\n",
      "2759/2759 [==============================] - 172s 62ms/step - loss: 0.3544 - accuracy: 0.8398 - val_loss: 0.3321 - val_accuracy: 0.8522\n",
      "Epoch 5/20\n",
      "2759/2759 [==============================] - 183s 66ms/step - loss: 0.2728 - accuracy: 0.8742 - val_loss: 0.3000 - val_accuracy: 0.8638\n",
      "Epoch 6/20\n",
      "2759/2759 [==============================] - 159s 58ms/step - loss: 0.2101 - accuracy: 0.9130 - val_loss: 0.2813 - val_accuracy: 0.8855\n",
      "Epoch 7/20\n",
      "2759/2759 [==============================] - 191s 69ms/step - loss: 0.1785 - accuracy: 0.9264 - val_loss: 0.2625 - val_accuracy: 0.8928\n",
      "Epoch 8/20\n",
      "2759/2759 [==============================] - 172s 62ms/step - loss: 0.1672 - accuracy: 0.9322 - val_loss: 0.2777 - val_accuracy: 0.8870\n",
      "Epoch 9/20\n",
      "2759/2759 [==============================] - 159s 58ms/step - loss: 0.1157 - accuracy: 0.9561 - val_loss: 0.3084 - val_accuracy: 0.9000\n",
      "Epoch 10/20\n",
      "2759/2759 [==============================] - 173s 63ms/step - loss: 0.1006 - accuracy: 0.9587 - val_loss: 0.2589 - val_accuracy: 0.9116\n",
      "Epoch 11/20\n",
      "2759/2759 [==============================] - 179s 65ms/step - loss: 0.0830 - accuracy: 0.9677 - val_loss: 0.3208 - val_accuracy: 0.9000\n",
      "Epoch 12/20\n",
      "2759/2759 [==============================] - 158s 57ms/step - loss: 0.0546 - accuracy: 0.9815 - val_loss: 0.3131 - val_accuracy: 0.9101\n",
      "Epoch 13/20\n",
      "2759/2759 [==============================] - 170s 62ms/step - loss: 0.0401 - accuracy: 0.9862 - val_loss: 0.3065 - val_accuracy: 0.9014\n",
      "Epoch 14/20\n",
      "2759/2759 [==============================] - 159s 58ms/step - loss: 0.0392 - accuracy: 0.9877 - val_loss: 0.3395 - val_accuracy: 0.8986\n",
      "Epoch 15/20\n",
      "2759/2759 [==============================] - 186s 67ms/step - loss: 0.0389 - accuracy: 0.9884 - val_loss: 0.3301 - val_accuracy: 0.9145\n",
      "Epoch 16/20\n",
      "2759/2759 [==============================] - 258s 93ms/step - loss: 0.0345 - accuracy: 0.9895 - val_loss: 0.2822 - val_accuracy: 0.9116\n",
      "Epoch 17/20\n",
      "2759/2759 [==============================] - 240s 87ms/step - loss: 0.0250 - accuracy: 0.9938 - val_loss: 0.3445 - val_accuracy: 0.9174\n",
      "Epoch 18/20\n",
      "2759/2759 [==============================] - 240s 87ms/step - loss: 0.0249 - accuracy: 0.9920 - val_loss: 0.3250 - val_accuracy: 0.9188\n",
      "Epoch 19/20\n",
      "2759/2759 [==============================] - 218s 79ms/step - loss: 0.0152 - accuracy: 0.9964 - val_loss: 0.3683 - val_accuracy: 0.9130\n",
      "Epoch 20/20\n",
      "2759/2759 [==============================] - 159s 58ms/step - loss: 0.0100 - accuracy: 0.9989 - val_loss: 0.3535 - val_accuracy: 0.9232\n"
     ]
    }
   ],
   "source": [
    "checkpoint = ModelCheckpoint('model-{epoch:03d}.model',monitor='val_loss',verbose=0,save_best_only=True,mode='auto')\n",
    "history=model.fit(train_data,train_target,epochs=20,callbacks=[checkpoint],validation_split=0.2)"
   ]
  },
  {
   "cell_type": "code",
   "execution_count": 9,
   "metadata": {},
   "outputs": [
    {
     "data": {
      "image/png": "[encoded data removed]",
      "text/plain": [
       "<Figure size 432x288 with 1 Axes>"
      ]
     },
     "metadata": {
      "needs_background": "light"
     },
     "output_type": "display_data"
    }
   ],
   "source": [
    "from matplotlib import pyplot as plt\n",
    "\n",
    "plt.plot(history.history['loss'],'r',label='training loss')\n",
    "plt.plot(history.history['val_loss'],label='validation loss')\n",
    "plt.xlabel('# epochs')\n",
    "plt.ylabel('loss')\n",
    "plt.legend()\n",
    "plt.show()"
   ]
  },
  {
   "cell_type": "code",
   "execution_count": 10,
   "metadata": {},
   "outputs": [
    {
     "data": {
      "image/png": "[encoded data removed]",
      "text/plain": [
       "<Figure size 432x288 with 1 Axes>"
      ]
     },
     "metadata": {
      "needs_background": "light"
     },
     "output_type": "display_data"
    }
   ],
   "source": [
    "plt.plot(history.history['accuracy'],'r',label='training accuracy')\n",
    "plt.plot(history.history['val_accuracy'],label='validation accuracy')\n",
    "plt.xlabel('# epochs')\n",
    "plt.ylabel('loss')\n",
    "plt.legend()\n",
    "plt.show()"
   ]
  },
  {
   "cell_type": "code",
   "execution_count": 11,
   "metadata": {},
   "outputs": [
    {
     "name": "stdout",
     "output_type": "stream",
     "text": [
      "384/384 [==============================] - 7s 17ms/step\n",
      "[0.34784794722994167, 0.9140625]\n"
     ]
    }
   ],
   "source": [
    "print(model.evaluate(test_data,test_target))"
   ]
  },
  {
   "cell_type": "code",
   "execution_count": 12,
   "metadata": {},
   "outputs": [],
   "source": [
    "import cv2\n",
    "face_clsfr=cv2.CascadeClassifier(r'C:\\Users\\keert\\frontalFace10\\haarcascade_frontalface_default.xml')\n",
    "source=cv2.VideoCapture(0)\n",
    "labels_dict={0:'MASK',1:'NO MASK'}\n",
    "color_dict={0:(0,255,0),1:(0,0,255)}"
   ]
  },
  {
   "cell_type": "code",
   "execution_count": null,
   "metadata": {},
   "outputs": [],
   "source": [
    "while(True):\n",
    "\n",
    "    ret,img=source.read()\n",
    "    gray=cv2.cvtColor(img,cv2.COLOR_BGR2GRAY)\n",
    "    faces=face_clsfr.detectMultiScale(gray,1.3,5)  \n",
    "\n",
    "    for (x,y,w,h) in faces:\n",
    "    \n",
    "        face_img=gray[y:y+w,x:x+w]\n",
    "        resized=cv2.resize(face_img,(100,100))\n",
    "        normalized=resized/255.0\n",
    "        reshaped=np.reshape(normalized,(1,100,100,1))\n",
    "        result=model.predict(reshaped)\n",
    "\n",
    "        label=np.argmax(result,axis=1)[0]\n",
    "      \n",
    "        cv2.rectangle(img,(x,y),(x+w,y+h),color_dict[label],2)\n",
    "        cv2.rectangle(img,(x,y-40),(x+w,y),color_dict[label],-1)\n",
    "        cv2.putText(img, labels_dict[label], (x, y-10),cv2.FONT_HERSHEY_SIMPLEX,0.8,(255,255,255),2)\n",
    "        \n",
    "        \n",
    "    cv2.imshow('LIVE',img)\n",
    "    key=cv2.waitKey(1)\n",
    "    \n",
    "    if(key==27):\n",
    "        break\n",
    "        \n",
    "cv2.destroyAllWindows()\n",
    "source.release()"
   ]
  },
  {
   "cell_type": "code",
   "execution_count": null,
   "metadata": {},
   "outputs": [],
   "source": []
  }
 ],
 "metadata": {
  "kernelspec": {
   "display_name": "Python 3",
   "language": "python",
   "name": "python3"
  },
  "language_info": {
   "codemirror_mode": {
    "name": "ipython",
    "version": 3
   },
   "file_extension": ".py",
   "mimetype": "text/x-python",
   "name": "python",
   "nbconvert_exporter": "python",
   "pygments_lexer": "ipython3",
   "version": "3.7.7"
  }
 },
 "nbformat": 4,
 "nbformat_minor": 4
}
