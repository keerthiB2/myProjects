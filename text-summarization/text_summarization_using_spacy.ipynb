{
 "cells": [
  {
   "cell_type": "markdown",
   "metadata": {},
   "source": [
    "# Text Summarization using Spacy"
   ]
  },
  {
   "cell_type": "code",
   "execution_count": 2,
   "metadata": {},
   "outputs": [
    {
     "name": "stdout",
     "output_type": "stream",
     "text": [
      "Actual text:\n",
      "\n",
      "Vijay's first lead role was in Pelli Choopulu, a romantic coming-of-age entertainer directed by Tharun Bhascker Dhaassyam, with Ritu Varma as the female lead. The film went on to be commercially successful[9] and won the Best Feature Film in Telugu[disputed – discuss] at the 64th National Film Awards as well as the Filmfare Award for Best Film - Telugu. He received praise for his realistic portrayal of a lazy and unmotivated chef.[citation needed] He then starred in a masala entertainer, Dwaraka in 2017. It opened to mixed to negative reviews and flopped at the box office. His next film Arjun Reddy received praise and criticism alike for being very bold and radical. Vijay's portrayal as a self-destructive, short-tempered, and alcoholic surgeon received critical acclaim, which led to him winning numerous awards, including the Filmfare Award for Best Actor - Telugu.[10][11] Following Arjun Reddy was Ye Mantram Vesave, which was delayed for 5 years and finally released. It was given poor reviews from critics and could not fare well at the box office. He then starred in Mahanati, a biographical period film around life of actress Savitri. He won acclaim for playing a charismatic and easy going photographer. Deverakonda's next release in 2018 was Geetha Arts' romantic comedy Geetha Govindam, in which he starred as an innocent and nervous college professor. Deverakonda received praise for playing a subtle, boy-next-door character after an aggressive role in Arjun Reddy. The film went on to become a triple blockbuster at the box office, having only been made on a budget of 5 crores. His next film, released on October 5, was the Tamil political thriller NOTA, directed by Iru Mugan-fame Anand Shankar. It received mixed reviews from critics and ended up as a disaster at the box office.[12] His next project was UV Creations' supernatural comedy thriller Taxiwala in which Vijay stumbles upon a possessed car opposite Malavika Nair. As of November 2018, Vijay is currently filming for Dear Comrade a sports drama once again alongside Rashmika Mandanna and another untitled Kranthi Madhav's romantic drama opposite Rashi Khanna, Aishwarya Rajesh and Izabelle Leite.[13] He will next be seen in Hero, a Telugu film that will be dubbed in Tamil and Malayalam too. The movie will be directed by Anand Annamalai, co-writer of films like Kuttramae Thandanai and Kaakka Muttai. The film see Malavika Mohanan essay the role of Vijay's love interest. Vijay will be taking on the role of a biker in this film.\n",
      "\n",
      "Summarized text:\n",
      "\n",
      "The film went on to be commercially successful[9] and won the Best Feature Film in Telugu[disputed – discuss] at the 64th National Film Awards as well as the Filmfare Award for Best Film - Telugu.  The film went on to become a triple blockbuster at the box office, having only been made on a budget of 5 crores.  As of November 2018, Vijay is currently filming for Dear Comrade a sports drama once again alongside Rashmika Mandanna and another untitled Kranthi Madhav's romantic drama opposite Rashi Khanna, Aishwarya Rajesh and Izabelle Leite.[13]  Vijay's portrayal as a self-destructive, short-tempered, and alcoholic surgeon received critical acclaim, which led to him winning numerous awards, including the Filmfare Award for Best Actor - Telugu.[10][11]  He will next be seen in Hero, a Telugu film that will be dubbed in Tamil and Malayalam too.  Vijay's first lead role was in Pelli Choopulu, a romantic coming-of-age entertainer directed by Tharun Bhascker Dhaassyam, with Ritu Varma as the female lead.\n"
     ]
    }
   ],
   "source": [
    "text=\"\"\"Vijay's first lead role was in Pelli Choopulu, a romantic coming-of-age entertainer directed by Tharun Bhascker Dhaassyam, with Ritu Varma as the female lead. The film went on to be commercially successful[9] and won the Best Feature Film in Telugu[disputed – discuss] at the 64th National Film Awards as well as the Filmfare Award for Best Film - Telugu. He received praise for his realistic portrayal of a lazy and unmotivated chef.[citation needed] He then starred in a masala entertainer, Dwaraka in 2017. It opened to mixed to negative reviews and flopped at the box office. His next film Arjun Reddy received praise and criticism alike for being very bold and radical. Vijay's portrayal as a self-destructive, short-tempered, and alcoholic surgeon received critical acclaim, which led to him winning numerous awards, including the Filmfare Award for Best Actor - Telugu.[10][11] Following Arjun Reddy was Ye Mantram Vesave, which was delayed for 5 years and finally released. It was given poor reviews from critics and could not fare well at the box office. He then starred in Mahanati, a biographical period film around life of actress Savitri. He won acclaim for playing a charismatic and easy going photographer. Deverakonda's next release in 2018 was Geetha Arts' romantic comedy Geetha Govindam, in which he starred as an innocent and nervous college professor. Deverakonda received praise for playing a subtle, boy-next-door character after an aggressive role in Arjun Reddy. The film went on to become a triple blockbuster at the box office, having only been made on a budget of 5 crores. His next film, released on October 5, was the Tamil political thriller NOTA, directed by Iru Mugan-fame Anand Shankar. It received mixed reviews from critics and ended up as a disaster at the box office.[12] His next project was UV Creations' supernatural comedy thriller Taxiwala in which Vijay stumbles upon a possessed car opposite Malavika Nair. As of November 2018, Vijay is currently filming for Dear Comrade a sports drama once again alongside Rashmika Mandanna and another untitled Kranthi Madhav's romantic drama opposite Rashi Khanna, Aishwarya Rajesh and Izabelle Leite.[13] He will next be seen in Hero, a Telugu film that will be dubbed in Tamil and Malayalam too. The movie will be directed by Anand Annamalai, co-writer of films like Kuttramae Thandanai and Kaakka Muttai. The film see Malavika Mohanan essay the role of Vijay's love interest. Vijay will be taking on the role of a biker in this film.\"\"\"\n",
    "\n",
    "import spacy\n",
    "from spacy.lang.en.stop_words import STOP_WORDS\n",
    "from string import punctuation\n",
    "import en_core_web_sm\n",
    "\n",
    "stopwords=list(STOP_WORDS)\n",
    "nlp=spacy.load('en_core_web_sm')\n",
    "doc=nlp(text)\n",
    "tokens=[token.text for token in doc]\n",
    "#print(tokens)\n",
    "punctuation=punctuation+'\\n'\n",
    "word_frequencies={}\n",
    "for word in doc:\n",
    "    if word.text.lower() not in punctuation:\n",
    "        if word.text not in word_frequencies.keys():\n",
    "            word_frequencies[word.text]=1\n",
    "        else:\n",
    "            word_frequencies[word.text]+=1\n",
    "#print(word_frequencies)\n",
    "max_frequency=max(word_frequencies.values())\n",
    "#print(max_frequency)\n",
    "\n",
    "for word in word_frequencies.keys():\n",
    "    word_frequencies[word]=word_frequencies[word]/max_frequency\n",
    "#print(word_frequencies)\n",
    "\n",
    "\n",
    "sentence_tokens=[sent for sent in doc.sents]\n",
    "#print(sentence_tokens)\n",
    "\n",
    "sentence_scores={}\n",
    "for sent in sentence_tokens:\n",
    "    for word in sent:\n",
    "        if word.text.lower() in word_frequencies.keys():\n",
    "            if sent not in sentence_scores.keys():\n",
    "                sentence_scores[sent]=word_frequencies[word.text.lower()]\n",
    "            else:\n",
    "                sentence_scores[sent]+=word_frequencies[word.text.lower()]\n",
    "                \n",
    "from heapq import nlargest\n",
    "select_length=int(len(sentence_tokens)*0.3)\n",
    "#print(select_length)\n",
    "\n",
    "summary=nlargest(select_length,sentence_scores,key=sentence_scores.get)\n",
    "#print(summary)\n",
    "final_summary=[word.text for word in summary]\n",
    "#print(final_summary)\n",
    "summary='  '.join(final_summary)\n",
    "print(\"Actual text:\")\n",
    "print('\\n'+text)\n",
    "print(\"\\nSummarized text:\")\n",
    "print('\\n'+summary)\n"
   ]
  },
  {
   "cell_type": "code",
   "execution_count": null,
   "metadata": {},
   "outputs": [],
   "source": []
  }
 ],
 "metadata": {
  "kernelspec": {
   "display_name": "Python 3",
   "language": "python",
   "name": "python3"
  },
  "language_info": {
   "codemirror_mode": {
    "name": "ipython",
    "version": 3
   },
   "file_extension": ".py",
   "mimetype": "text/x-python",
   "name": "python",
   "nbconvert_exporter": "python",
   "pygments_lexer": "ipython3",
   "version": "3.7.6"
  }
 },
 "nbformat": 4,
 "nbformat_minor": 4
}
